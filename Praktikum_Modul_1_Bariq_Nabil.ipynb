{
  "nbformat": 4,
  "nbformat_minor": 0,
  "metadata": {
    "colab": {
      "provenance": [],
      "authorship_tag": "ABX9TyP6O0BsTv9o9YGclOzcci1c",
      "include_colab_link": true
    },
    "kernelspec": {
      "name": "python3",
      "display_name": "Python 3"
    },
    "language_info": {
      "name": "python"
    }
  },
  "cells": [
    {
      "cell_type": "markdown",
      "metadata": {
        "id": "view-in-github",
        "colab_type": "text"
      },
      "source": [
        "<a href=\"https://colab.research.google.com/github/Bariqnabilrahman/Projek-Praktikum-Modul-1---Bariq-Nabil-Rahman/blob/main/Praktikum_Modul_1_Bariq_Nabil.ipynb\" target=\"_parent\"><img src=\"https://colab.research.google.com/assets/colab-badge.svg\" alt=\"Open In Colab\"/></a>"
      ]
    },
    {
      "cell_type": "code",
      "source": [
        "#Kendaraan darat Kasus 1\n",
        "list_kendaraan = [\"Mobil A\", \"Motor B\", \"Sepeda C\"]\n",
        "jarak = [2000, 1500, 800]\n",
        "waktu = [90, 1500, 40]\n",
        "kecepatan = []\n",
        "\n",
        "for i in range(len(list_kendaraan)):\n",
        "  if waktu[0] == 0 :\n",
        "    print(\"Waktu tidak boleh nol, karena pembagian dengan nol itu tidak valid\")\n",
        "  else :\n",
        "    v = jarak[i] / waktu [i]\n",
        "    kecepatan.append(v)\n",
        "    print(f\"Kecepatan kendaraan {list_kendaraan[i]} adalah {v} m/s\")\n",
        "\n",
        "tercepat = max(kecepatan)\n",
        "index_tercepat = kecepatan.index(tercepat)\n",
        "print(f\"Kendaraan yang tercepat adalah {list_kendaraan[index_tercepat]} dengan kecepatan {tercepat}\")\n",
        "\n",
        "#Atlet Lari Kasus 2\n",
        "list_atlet = [\"Pelari 1\", \"Pelari 2\", \"Pelari 3\"]\n",
        "jarak = [400, 800, 1000]\n",
        "waktu = [50, 120, 11]\n",
        "kecepatan = []\n",
        "\n",
        "for i in range(len(list_atlet)):\n",
        "  if waktu[0] == 0 :\n",
        "    print(\"Waktu tidak boleh nol, karena pembagian dengan nol itu tidak valid\")\n",
        "  else :\n",
        "    v = jarak[i] / waktu [i]\n",
        "    kecepatan.append(v)\n",
        "    print(f\"Kecepatan atlet {list_atlet[i]} adalah {v} m/s\")\n",
        "\n",
        "tercepat = max(kecepatan)\n",
        "index_tercepat = kecepatan.index(tercepat)\n",
        "print(f\"Atlet pelari yang tercepat adalah {list_atlet[index_tercepat]} dengan kecepatan {tercepat}\")\n",
        "\n",
        "\n",
        "#Transportasi Umum Kasus 3\n",
        "list_transpor = [\"Kereta\", \"Bus Kota\", \"Truk\"]\n",
        "jarak = [5000, 3000, 2500]\n",
        "waktu = [180, 120, 120]\n",
        "kecepatan = []\n",
        "\n",
        "for i in range(len(list_transpor)):\n",
        "  if waktu[0] == 0 :\n",
        "    print(\"Waktu tidak boleh nol, karena pembagian dengan nol itu tidak valid\")\n",
        "  else :\n",
        "    v = jarak[i] / waktu [i]\n",
        "    kecepatan.append(v)\n",
        "    print(f\"Kecepatan transportasi umum {list_transpor[i]} adalah {v} m/s\")\n",
        "\n",
        "tercepat = max(kecepatan)\n",
        "index_tercepat = kecepatan.index(tercepat)\n",
        "print(f\"Transportasi yang tercepat adalah {list_transpor[index_tercepat]} dengan kecepatan {tercepat}\")\n",
        "\n",
        "#Kendaraan darat Kasus 4\n",
        "list_elemen = [\"Drone\", \"Kapal Cepat\", \"Pemain Sepak Bola\"]\n",
        "jarak = [1200, 5000, 60]\n",
        "waktu = [60, 300, 7]\n",
        "kecepatan = []\n",
        "\n",
        "for i in range(len(list_elemen)):\n",
        "  if waktu[0] == 0 :\n",
        "    print(\"Waktu tidak boleh nol, karena pembagian dengan nol itu tidak valid\")\n",
        "  else :\n",
        "    v = jarak[i] / waktu [i]\n",
        "    kecepatan.append(v)\n",
        "    print(f\"Kecepatan udara darat laut{list_elemen[i]} adalah {v} m/s\")\n",
        "\n",
        "tercepat = max(kecepatan)\n",
        "index_tercepat = kecepatan.index(tercepat)\n",
        "print(f\"Elemen yang tercepat adalah {list_elemen[index_tercepat]} dengan kecepatan {tercepat}\")"
      ],
      "metadata": {
        "colab": {
          "base_uri": "https://localhost:8080/"
        },
        "id": "K3cHQO7nvhEv",
        "outputId": "26bf410e-3b00-4b3e-b6ba-386be5dda442"
      },
      "execution_count": null,
      "outputs": [
        {
          "output_type": "stream",
          "name": "stdout",
          "text": [
            "Kecepatan kendaraan Mobil A adalah 22.22222222222222 m/s\n",
            "Kecepatan kendaraan Motor B adalah 1.0 m/s\n",
            "Kecepatan kendaraan Sepeda C adalah 20.0 m/s\n",
            "Kendaraan yang tercepat adalah Mobil A dengan kecepatan 22.22222222222222\n",
            "Kecepatan transportasi umum Kereta adalah 27.77777777777778 m/s\n",
            "Kecepatan transportasi umum Bus Kota adalah 25.0 m/s\n",
            "Kecepatan transportasi umum Truk adalah 20.833333333333332 m/s\n",
            "Transportasi yang tercepat adalah Kereta dengan kecepatan 27.77777777777778\n",
            "Kecepatan udara darat lautDrone adalah 20.0 m/s\n",
            "Kecepatan udara darat lautKapal Cepat adalah 16.666666666666668 m/s\n",
            "Kecepatan udara darat lautPemain Sepak Bola adalah 8.571428571428571 m/s\n",
            "Elemen yang tercepat adalah Drone dengan kecepatan 20.0\n"
          ]
        }
      ]
    }
  ]
}